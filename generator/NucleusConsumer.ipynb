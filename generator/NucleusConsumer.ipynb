{
 "cells": [
  {
   "cell_type": "code",
   "execution_count": null,
   "metadata": {},
   "outputs": [],
   "source": [
    "from confluent_kafka import Consumer, KafkaError, Producer\n",
    "import warnings\n",
    "import json"
   ]
  },
  {
   "cell_type": "code",
   "execution_count": null,
   "metadata": {},
   "outputs": [],
   "source": [
    "warnings.filterwarnings(\"ignore\", category=DeprecationWarning)\n",
    "\n",
    "# Kafka Settings\n",
    "settings = {\n",
    "    'bootstrap.servers': '10.6.0.155:9092',\n",
    "    'group.id': 'mygroup',\n",
    "    'client.id': 'client-1',\n",
    "    'enable.auto.commit': True,\n",
    "    'session.timeout.ms': 6000,\n",
    "    'default.topic.config': {'auto.offset.reset': 'latest'}\n",
    "}"
   ]
  },
  {
   "cell_type": "code",
   "execution_count": null,
   "metadata": {},
   "outputs": [],
   "source": [
    "# Subscribe to Kafka topic\n",
    "\n",
    "c = Consumer(settings)\n",
    "c.subscribe(['nucleus'])"
   ]
  },
  {
   "cell_type": "code",
   "execution_count": null,
   "metadata": {},
   "outputs": [],
   "source": [
    "# Poll for new data\n",
    "\n",
    "try:\n",
    "    while True:\n",
    "        msg = c.poll(0.1)\n",
    "        if msg is None:\n",
    "            continue\n",
    "        elif not msg.error():\n",
    "            data = msg.value().decode('utf-8')\n",
    "            print(data)\n",
    "            c.commit()\n",
    "        elif msg.error().code() == KafkaError._PARTITION_EOF:\n",
    "            print('End of partition reached {0}/{1}'\n",
    "                  .format(msg.topic(), msg.partition()))\n",
    "        else:\n",
    "            print('Error occured: {0}'.format(msg.error().str()))\n",
    "\n",
    "except KeyboardInterrupt:\n",
    "    pass\n",
    "\n",
    "finally:\n",
    "    c.close()"
   ]
  },
  {
   "cell_type": "code",
   "execution_count": null,
   "metadata": {},
   "outputs": [],
   "source": []
  }
 ],
 "metadata": {
  "kernelspec": {
   "display_name": "Python 3",
   "language": "python",
   "name": "python3"
  },
  "language_info": {
   "codemirror_mode": {
    "name": "ipython",
    "version": 3
   },
   "file_extension": ".py",
   "mimetype": "text/x-python",
   "name": "python",
   "nbconvert_exporter": "python",
   "pygments_lexer": "ipython3",
   "version": "3.6.5"
  }
 },
 "nbformat": 4,
 "nbformat_minor": 2
}
