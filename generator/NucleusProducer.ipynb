{
 "cells": [
  {
   "cell_type": "code",
   "execution_count": null,
   "metadata": {},
   "outputs": [],
   "source": [
    "import os\n",
    "import time\n",
    "\n",
    "import observation\n",
    "\n",
    "from confluent_kafka import Producer"
   ]
  },
  {
   "cell_type": "code",
   "execution_count": null,
   "metadata": {},
   "outputs": [],
   "source": [
    "# Queue HL7 message to Kafka\n",
    "\n",
    "def queue_message(message):\n",
    "    p = Producer({'bootstrap.servers': '10.6.0.155:9092'})\n",
    "    p.produce('nucleus', key='12345', value=message)\n",
    "    p.flush(3)"
   ]
  },
  {
   "cell_type": "code",
   "execution_count": null,
   "metadata": {},
   "outputs": [],
   "source": [
    "NEW_LINE = '\\n'\n",
    "SLEEP = 2\n",
    "NUMBER_MESSAGES = 50\n",
    "\n",
    "while 1:\n",
    "    for _ in range(NUMBER_MESSAGES):\n",
    "        obs = observation.Observation()\n",
    "\n",
    "        msh = 'MSH|^~\\&|||||{0}||ORU^R01|||2.3||||'.format(\n",
    "                    obs.msh_time.strftime(\"%Y%m%d%H%M%S\"))\n",
    "        \n",
    "        HL7_MESSAGE = msh\n",
    "\n",
    "        obr = 'OBR||||{0}||{1}||{2}||||||||||{3}|||||||{4}||||'.format(\n",
    "            obs.universal_service_id,\n",
    "            obs.req_time.strftime(\"%Y%m%d%H%M%S\"),\n",
    "            obs.obs_end_time.strftime(\"%Y%m%d%H%M%S\"),\n",
    "            obs.method,\n",
    "            obs.result_status)\n",
    "        \n",
    "        for k in obs.oru['components'].keys():\n",
    "            obx_i = 'OBX|||{0}||{1}|{2}||||||||{3}||||{4}|'.format(\n",
    "                        k,\n",
    "                        obs.oru['components'][k]['value'],\n",
    "                        obs.oru['components'][k]['unit'],\n",
    "                        obs.obx_time.strftime(\"%Y%m%d%H%M%S\"),\n",
    "                        obs.oru['method']\n",
    "                        )\n",
    "            obr = NEW_LINE.join([obr, obx_i])\n",
    "            \n",
    "        HL7_MESSAGE = NEW_LINE.join([HL7_MESSAGE, obr])\n",
    "\n",
    "        # send HL7_MESSAGE to Kafka\n",
    "        queue_message(str.encode(HL7_MESSAGE))\n",
    "\n",
    "    time.sleep(SLEEP)"
   ]
  }
 ],
 "metadata": {
  "kernelspec": {
   "display_name": "Python 3",
   "language": "python",
   "name": "python3"
  },
  "language_info": {
   "codemirror_mode": {
    "name": "ipython",
    "version": 3
   },
   "file_extension": ".py",
   "mimetype": "text/x-python",
   "name": "python",
   "nbconvert_exporter": "python",
   "pygments_lexer": "ipython3",
   "version": "3.6.5"
  }
 },
 "nbformat": 4,
 "nbformat_minor": 2
}
